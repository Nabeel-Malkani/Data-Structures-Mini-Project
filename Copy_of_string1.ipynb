{
  "nbformat": 4,
  "nbformat_minor": 0,
  "metadata": {
    "kernelspec": {
      "display_name": "Python 3",
      "language": "python",
      "name": "python3"
    },
    "language_info": {
      "codemirror_mode": {
        "name": "ipython",
        "version": 3
      },
      "file_extension": ".py",
      "mimetype": "text/x-python",
      "name": "python",
      "nbconvert_exporter": "python",
      "pygments_lexer": "ipython3",
      "version": "3.7.6"
    },
    "colab": {
      "name": "Copy of string1.ipynb",
      "provenance": [],
      "include_colab_link": true
    }
  },
  "cells": [
    {
      "cell_type": "markdown",
      "metadata": {
        "id": "view-in-github",
        "colab_type": "text"
      },
      "source": [
        "<a href=\"https://colab.research.google.com/github/Nabeel-Malkani/Data-Structures-Mini-Project/blob/master/Copy_of_string1.ipynb\" target=\"_parent\"><img src=\"https://colab.research.google.com/assets/colab-badge.svg\" alt=\"Open In Colab\"/></a>"
      ]
    },
    {
      "cell_type": "code",
      "metadata": {
        "id": "T63ZL9sSYquJ",
        "colab": {
          "base_uri": "https://localhost:8080/"
        },
        "outputId": "8dfe8fc5-6cc0-46d7-e6b6-1a7bb730b8e3"
      },
      "source": [
        "# In[1]:\n",
        "# A. donuts\n",
        "# Given an int count of a number of donuts, return a string\n",
        "# of the form 'Number of donuts: <count>', where <count> is the number\n",
        "# passed in. However, if the count is 10 or more, then use the word 'many'\n",
        "# instead of the actual count.\n",
        "# So donuts(5) returns 'Number of donuts: 5'\n",
        "# and donuts(23) returns 'Number of donuts: many'\n",
        "# Look for string format function\n",
        "def donuts(count):\n",
        "  \n",
        "  if count <10:\n",
        "     s = print(\"Number of donuts: \", count);\n",
        "  else:\n",
        "     s = print(\"Number of donuts: many\");\n",
        "  return s\n",
        "donuts(5);\n",
        "donuts(0);\n",
        "donuts(10);"
      ],
      "execution_count": null,
      "outputs": [
        {
          "output_type": "stream",
          "text": [
            "Number of donuts:  5\n",
            "Number of donuts:  0\n",
            "Number of donuts: many\n"
          ],
          "name": "stdout"
        }
      ]
    },
    {
      "cell_type": "code",
      "metadata": {
        "id": "K_KWWQKbYquY",
        "colab": {
          "base_uri": "https://localhost:8080/"
        },
        "outputId": "d68f7094-0b4b-4941-c6f9-76e189d8752c"
      },
      "source": [
        "# B. both_ends\n",
        "# Given a string s, return a string made of the first 2\n",
        "# and the last 2 chars of the original string,\n",
        "# so 'spring' yields 'spng'. However, if the string length\n",
        "# is less than 2, return instead the empty string.\n",
        "def both_ends(s):\n",
        "    if len(s) < 2:\n",
        "        return ''\n",
        "    else:\n",
        "        return s[0:2] + s[-2:]\n",
        "print(both_ends('spring'))\n",
        "print(both_ends('Malkani'))\n"
      ],
      "execution_count": null,
      "outputs": [
        {
          "output_type": "stream",
          "text": [
            "spng\n",
            "Mani\n"
          ],
          "name": "stdout"
        }
      ]
    },
    {
      "cell_type": "code",
      "metadata": {
        "id": "XTrlW89yYqua",
        "colab": {
          "base_uri": "https://localhost:8080/"
        },
        "outputId": "de8fcbbc-030b-4f7b-e3f7-022b6ff965a6"
      },
      "source": [
        "# C. fix_start\n",
        "# Given a string s, return a string\n",
        "# where all occurences of its first char have\n",
        "# been changed to '*', except do not change\n",
        "# the first char itself.\n",
        "# e.g. 'babble' yields 'ba**le'\n",
        "# Assume that the string is length 1 or more.\n",
        "# Hint: s.replace(stra, strb) returns a version of string s\n",
        "# where all instances of stra have been replaced by strb.\n",
        "def fix_start(s):\n",
        "    return s[0]+s[1:].replace(s[0], '*')\n",
        "\n",
        "print(fix_start('babble'))\n",
        "print(fix_start('mammle'))\n",
        "print(fix_start('aaahabet'))\n",
        "\n"
      ],
      "execution_count": null,
      "outputs": [
        {
          "output_type": "stream",
          "text": [
            "ba**le\n",
            "ma**le\n",
            "a**h*bet\n"
          ],
          "name": "stdout"
        }
      ]
    },
    {
      "cell_type": "code",
      "metadata": {
        "id": "xJ67dah-Yqub",
        "colab": {
          "base_uri": "https://localhost:8080/"
        },
        "outputId": "e8f60be2-620e-4015-a76a-a53fd059035d"
      },
      "source": [
        "# D. MixUp\n",
        "# Given strings a and b, return a single string with a and b separated\n",
        "# by a space '<a> <b>', except swap the first 2 chars of each string.\n",
        "# e.g.\n",
        "#   'mix', pod' -> 'pox mid'\n",
        "#   'dog', 'dinner' -> 'dig donner'\n",
        "# Assume a and b are length 2 or more.\n",
        "def mix_up(a, b):\n",
        "        new_a = b[:2] + a[2:]\n",
        "        new_b = a[:2] + b[2:]\n",
        "        return new_a + ' ' + new_b\n",
        "print(mix_up('pezzy', 'firm'))\n",
        "print(mix_up('Nabeel', 'Malkani'))\n",
        "\n"
      ],
      "execution_count": null,
      "outputs": [
        {
          "output_type": "stream",
          "text": [
            "fizzy perm\n",
            "Mabeel Nalkani\n"
          ],
          "name": "stdout"
        }
      ]
    },
    {
      "cell_type": "code",
      "metadata": {
        "id": "MYSjZA_zYquc"
      },
      "source": [
        "# Provided simple test() function used in main() to print\n",
        "# what each function returns vs. what it's supposed to return.\n",
        "def test(got, expected):\n",
        "  if got == expected:\n",
        "    prefix = ' OK '\n",
        "  else:\n",
        "    prefix = '  X '\n",
        "  print ('%s got: %s expected: %s' % (prefix, repr(got), repr(expected)))\n",
        "\n",
        "\n"
      ],
      "execution_count": null,
      "outputs": []
    },
    {
      "cell_type": "code",
      "metadata": {
        "colab": {
          "base_uri": "https://localhost:8080/"
        },
        "id": "BmeltkMZYqud",
        "outputId": "9899c7b8-9930-4125-caf0-290c5d739b69"
      },
      "source": [
        "# Provided main() calls the above functions with interesting inputs,\n",
        "# using test() to check if each result is correct or not.\n",
        "\n",
        "print (\"donuts\")\n",
        "# Each line calls donuts, compares its result to the expected for that call.\n",
        "test(donuts(4), 'Number of donuts: 4')\n",
        "test(donuts(9), 'Number of donuts: 9')\n",
        "test(donuts(10), 'Number of donuts: many')\n",
        "test(donuts(99), 'Number of donuts: many')\n",
        "\n",
        "print\n",
        "print ('both_ends')\n",
        "test(both_ends('spring'), 'spng')\n",
        "test(both_ends('Hello'), 'Helo')\n",
        "test(both_ends('a'), '')\n",
        "test(both_ends('xyz'), 'xyyz')\n",
        "\n",
        "\n",
        "print\n",
        "print ('fix_start')\n",
        "test(fix_start('babble'), 'ba**le')\n",
        "test(fix_start('aardvark'), 'a*rdv*rk')\n",
        "test(fix_start('google'), 'goo*le')\n",
        "test(fix_start('donut'), 'donut')\n",
        "\n",
        "print\n",
        "print ('mix_up')\n",
        "test(mix_up('mix', 'pod'), 'pox mid')\n",
        "test(mix_up('dog', 'dinner'), 'dig donner')\n",
        "test(mix_up('gnash', 'sport'), 'spash gnort')\n",
        "test(mix_up('pezzy', 'firm'), 'fizzy perm')"
      ],
      "execution_count": null,
      "outputs": [
        {
          "output_type": "stream",
          "text": [
            "donuts\n",
            "Number of donuts:  4\n",
            "  X  got: None expected: 'Number of donuts: 4'\n",
            "Number of donuts:  9\n",
            "  X  got: None expected: 'Number of donuts: 9'\n",
            "Number of donuts: many\n",
            "  X  got: None expected: 'Number of donuts: many'\n",
            "Number of donuts: many\n",
            "  X  got: None expected: 'Number of donuts: many'\n",
            "both_ends\n",
            " OK  got: 'spng' expected: 'spng'\n",
            " OK  got: 'Helo' expected: 'Helo'\n",
            " OK  got: '' expected: ''\n",
            " OK  got: 'xyyz' expected: 'xyyz'\n",
            "fix_start\n",
            " OK  got: 'ba**le' expected: 'ba**le'\n",
            " OK  got: 'a*rdv*rk' expected: 'a*rdv*rk'\n",
            " OK  got: 'goo*le' expected: 'goo*le'\n",
            " OK  got: 'donut' expected: 'donut'\n",
            "mix_up\n",
            " OK  got: 'pox mid' expected: 'pox mid'\n",
            " OK  got: 'dig donner' expected: 'dig donner'\n",
            " OK  got: 'spash gnort' expected: 'spash gnort'\n",
            " OK  got: 'fizzy perm' expected: 'fizzy perm'\n"
          ],
          "name": "stdout"
        }
      ]
    },
    {
      "cell_type": "code",
      "metadata": {
        "id": "Dd-RVfvTY5XR"
      },
      "source": [
        ""
      ],
      "execution_count": null,
      "outputs": []
    }
  ]
}